{
  "nbformat": 4,
  "nbformat_minor": 0,
  "metadata": {
    "colab": {
      "provenance": []
    },
    "kernelspec": {
      "name": "python3",
      "display_name": "Python 3"
    },
    "language_info": {
      "name": "python"
    }
  },
  "cells": [
    {
      "cell_type": "code",
      "execution_count": 2,
      "metadata": {
        "colab": {
          "base_uri": "https://localhost:8080/"
        },
        "id": "uuxu5709roRt",
        "outputId": "ae7f24fd-7482-4fcc-bd7f-cdfdc4ffbbb3"
      },
      "outputs": [
        {
          "output_type": "stream",
          "name": "stdout",
          "text": [
            "<class 'pandas.core.frame.DataFrame'>\n",
            "RangeIndex: 224 entries, 0 to 223\n",
            "Data columns (total 20 columns):\n",
            " #   Column                    Non-Null Count  Dtype  \n",
            "---  ------                    --------------  -----  \n",
            " 0   Age                       224 non-null    int64  \n",
            " 1   Gender                    224 non-null    int64  \n",
            " 2   BMI, kg/m2                224 non-null    int64  \n",
            " 3   Height/m                  224 non-null    int64  \n",
            " 4   History of Heart Failure  224 non-null    int64  \n",
            " 5   working place             224 non-null    int64  \n",
            " 6   mMRC                      224 non-null    int64  \n",
            " 7   status of smoking         224 non-null    int64  \n",
            " 8   Pack History              224 non-null    int64  \n",
            " 9   Vaccination               224 non-null    int64  \n",
            " 10  Depression                224 non-null    int64  \n",
            " 11  Dependent                 224 non-null    int64  \n",
            " 12  Temperature               224 non-null    int64  \n",
            " 13  Respiratory Rate          224 non-null    int64  \n",
            " 14  Heart Rate                224 non-null    int64  \n",
            " 15  Blood pressure            224 non-null    int64  \n",
            " 16  Oxygen Saturation         224 non-null    float64\n",
            " 17  Sputum                    224 non-null    int64  \n",
            " 18  FEV1                      224 non-null    int64  \n",
            " 19  COPD GOLD                 224 non-null    int64  \n",
            "dtypes: float64(1), int64(19)\n",
            "memory usage: 35.1 KB\n"
          ]
        }
      ],
      "source": [
        "import pandas as pd\n",
        "import numpy as np\n",
        "data = pd.read_csv('/content/PatientCategorical.csv')\n",
        "data.head()\n",
        "data.info()"
      ]
    },
    {
      "cell_type": "code",
      "source": [
        "print(data.corr())"
      ],
      "metadata": {
        "colab": {
          "base_uri": "https://localhost:8080/"
        },
        "id": "1ukGEWQ5t662",
        "outputId": "7d05b594-7693-463d-98c3-ecce97af6046"
      },
      "execution_count": 3,
      "outputs": [
        {
          "output_type": "stream",
          "name": "stdout",
          "text": [
            "                               Age    Gender  BMI, kg/m2  Height/m  \\\n",
            "Age                       1.000000 -0.043159    0.192151       NaN   \n",
            "Gender                   -0.043159  1.000000   -0.004349       NaN   \n",
            "BMI, kg/m2                0.192151 -0.004349    1.000000       NaN   \n",
            "Height/m                       NaN       NaN         NaN       NaN   \n",
            "History of Heart Failure  0.188975  0.005499    0.155071       NaN   \n",
            "working place             0.054149 -0.143508   -0.053484       NaN   \n",
            "mMRC                      0.293394  0.097915    0.219995       NaN   \n",
            "status of smoking        -0.028212 -0.117860   -0.148980       NaN   \n",
            "Pack History              0.071030  0.063500    0.203391       NaN   \n",
            "Vaccination               0.450651 -0.049003    0.211173       NaN   \n",
            "Depression                0.017012 -0.057900   -0.119691       NaN   \n",
            "Dependent                 0.607915  0.021822    0.149464       NaN   \n",
            "Temperature              -0.343559 -0.116649   -0.200122       NaN   \n",
            "Respiratory Rate          0.324484  0.067015    0.218591       NaN   \n",
            "Heart Rate               -0.276233 -0.059918   -0.137267       NaN   \n",
            "Blood pressure           -0.040585 -0.045317   -0.044223       NaN   \n",
            "Oxygen Saturation        -0.353048 -0.092835   -0.264320       NaN   \n",
            "Sputum                    0.136155  0.063239    0.163106       NaN   \n",
            "FEV1                     -0.415765 -0.112889   -0.209540       NaN   \n",
            "COPD GOLD                 0.235520  0.099493    0.236405       NaN   \n",
            "\n",
            "                          History of Heart Failure  working place      mMRC  \\\n",
            "Age                                       0.188975       0.054149  0.293394   \n",
            "Gender                                    0.005499      -0.143508  0.097915   \n",
            "BMI, kg/m2                                0.155071      -0.053484  0.219995   \n",
            "Height/m                                       NaN            NaN       NaN   \n",
            "History of Heart Failure                  1.000000      -0.098875  0.328373   \n",
            "working place                            -0.098875       1.000000 -0.392580   \n",
            "mMRC                                      0.328373      -0.392580  1.000000   \n",
            "status of smoking                        -0.178593       0.267071 -0.503487   \n",
            "Pack History                              0.202294      -0.250181  0.492502   \n",
            "Vaccination                               0.110625      -0.001679  0.116895   \n",
            "Depression                               -0.040214      -0.021826  0.203757   \n",
            "Dependent                                 0.277199       0.008285  0.212736   \n",
            "Temperature                              -0.262120       0.299060 -0.754478   \n",
            "Respiratory Rate                          0.353102      -0.303123  0.799074   \n",
            "Heart Rate                               -0.225899       0.375398 -0.678644   \n",
            "Blood pressure                           -0.012693       0.023924 -0.110452   \n",
            "Oxygen Saturation                        -0.330021       0.328941 -0.824771   \n",
            "Sputum                                    0.126191      -0.182389  0.457343   \n",
            "FEV1                                     -0.338292       0.354416 -0.817020   \n",
            "COPD GOLD                                 0.319225      -0.443951  0.845876   \n",
            "\n",
            "                          status of smoking  Pack History  Vaccination  \\\n",
            "Age                               -0.028212      0.071030     0.450651   \n",
            "Gender                            -0.117860      0.063500    -0.049003   \n",
            "BMI, kg/m2                        -0.148980      0.203391     0.211173   \n",
            "Height/m                                NaN           NaN          NaN   \n",
            "History of Heart Failure          -0.178593      0.202294     0.110625   \n",
            "working place                      0.267071     -0.250181    -0.001679   \n",
            "mMRC                              -0.503487      0.492502     0.116895   \n",
            "status of smoking                  1.000000     -0.844385    -0.028821   \n",
            "Pack History                      -0.844385      1.000000    -0.000251   \n",
            "Vaccination                       -0.028821     -0.000251     1.000000   \n",
            "Depression                        -0.183190      0.148416    -0.108593   \n",
            "Dependent                         -0.009145      0.035265     0.440340   \n",
            "Temperature                        0.414368     -0.465933    -0.066327   \n",
            "Respiratory Rate                  -0.482153      0.509054     0.065800   \n",
            "Heart Rate                         0.389468     -0.436726     0.019451   \n",
            "Blood pressure                     0.018850     -0.000019     0.021692   \n",
            "Oxygen Saturation                  0.482761     -0.517469    -0.136320   \n",
            "Sputum                            -0.425936      0.448966    -0.041867   \n",
            "FEV1                               0.466270     -0.521477    -0.144686   \n",
            "COPD GOLD                         -0.446184      0.437006     0.058577   \n",
            "\n",
            "                          Depression  Dependent  Temperature  \\\n",
            "Age                         0.017012   0.607915    -0.343559   \n",
            "Gender                     -0.057900   0.021822    -0.116649   \n",
            "BMI, kg/m2                 -0.119691   0.149464    -0.200122   \n",
            "Height/m                         NaN        NaN          NaN   \n",
            "History of Heart Failure   -0.040214   0.277199    -0.262120   \n",
            "working place              -0.021826   0.008285     0.299060   \n",
            "mMRC                        0.203757   0.212736    -0.754478   \n",
            "status of smoking          -0.183190  -0.009145     0.414368   \n",
            "Pack History                0.148416   0.035265    -0.465933   \n",
            "Vaccination                -0.108593   0.440340    -0.066327   \n",
            "Depression                  1.000000  -0.081116    -0.198522   \n",
            "Dependent                  -0.081116   1.000000    -0.198549   \n",
            "Temperature                -0.198522  -0.198549     1.000000   \n",
            "Respiratory Rate            0.132164   0.256320    -0.794095   \n",
            "Heart Rate                 -0.172352  -0.193163     0.749216   \n",
            "Blood pressure              0.138050  -0.051159    -0.027242   \n",
            "Oxygen Saturation          -0.094837  -0.249839     0.729582   \n",
            "Sputum                      0.195146   0.069840    -0.352343   \n",
            "FEV1                       -0.154411  -0.329232     0.800413   \n",
            "COPD GOLD                   0.150756   0.176012    -0.729810   \n",
            "\n",
            "                          Respiratory Rate  Heart Rate  Blood pressure  \\\n",
            "Age                               0.324484   -0.276233       -0.040585   \n",
            "Gender                            0.067015   -0.059918       -0.045317   \n",
            "BMI, kg/m2                        0.218591   -0.137267       -0.044223   \n",
            "Height/m                               NaN         NaN             NaN   \n",
            "History of Heart Failure          0.353102   -0.225899       -0.012693   \n",
            "working place                    -0.303123    0.375398        0.023924   \n",
            "mMRC                              0.799074   -0.678644       -0.110452   \n",
            "status of smoking                -0.482153    0.389468        0.018850   \n",
            "Pack History                      0.509054   -0.436726       -0.000019   \n",
            "Vaccination                       0.065800    0.019451        0.021692   \n",
            "Depression                        0.132164   -0.172352        0.138050   \n",
            "Dependent                         0.256320   -0.193163       -0.051159   \n",
            "Temperature                      -0.794095    0.749216       -0.027242   \n",
            "Respiratory Rate                  1.000000   -0.715420       -0.054411   \n",
            "Heart Rate                       -0.715420    1.000000       -0.074467   \n",
            "Blood pressure                   -0.054411   -0.074467        1.000000   \n",
            "Oxygen Saturation                -0.810658    0.681272        0.267693   \n",
            "Sputum                            0.486212   -0.422715       -0.176434   \n",
            "FEV1                             -0.834940    0.757716        0.108709   \n",
            "COPD GOLD                         0.788259   -0.688194       -0.037440   \n",
            "\n",
            "                          Oxygen Saturation    Sputum      FEV1  COPD GOLD  \n",
            "Age                               -0.353048  0.136155 -0.415765   0.235520  \n",
            "Gender                            -0.092835  0.063239 -0.112889   0.099493  \n",
            "BMI, kg/m2                        -0.264320  0.163106 -0.209540   0.236405  \n",
            "Height/m                                NaN       NaN       NaN        NaN  \n",
            "History of Heart Failure          -0.330021  0.126191 -0.338292   0.319225  \n",
            "working place                      0.328941 -0.182389  0.354416  -0.443951  \n",
            "mMRC                              -0.824771  0.457343 -0.817020   0.845876  \n",
            "status of smoking                  0.482761 -0.425936  0.466270  -0.446184  \n",
            "Pack History                      -0.517469  0.448966 -0.521477   0.437006  \n",
            "Vaccination                       -0.136320 -0.041867 -0.144686   0.058577  \n",
            "Depression                        -0.094837  0.195146 -0.154411   0.150756  \n",
            "Dependent                         -0.249839  0.069840 -0.329232   0.176012  \n",
            "Temperature                        0.729582 -0.352343  0.800413  -0.729810  \n",
            "Respiratory Rate                  -0.810658  0.486212 -0.834940   0.788259  \n",
            "Heart Rate                         0.681272 -0.422715  0.757716  -0.688194  \n",
            "Blood pressure                     0.267693 -0.176434  0.108709  -0.037440  \n",
            "Oxygen Saturation                  1.000000 -0.489663  0.871711  -0.774128  \n",
            "Sputum                            -0.489663  1.000000 -0.534607   0.421829  \n",
            "FEV1                               0.871711 -0.534607  1.000000  -0.775618  \n",
            "COPD GOLD                         -0.774128  0.421829 -0.775618   1.000000  \n"
          ]
        }
      ]
    },
    {
      "cell_type": "code",
      "source": [
        "import pandas as pd\n",
        "import numpy as np\n",
        "import matplotlib.pyplot as plt\n",
        "\n",
        "from sklearn.model_selection import train_test_split\n",
        "from sklearn.tree import DecisionTreeRegressor\n",
        "from sklearn.pipeline import Pipeline\n",
        "from sklearn.preprocessing import StandardScaler\n",
        "y = data[\"Sputum\"]\n",
        "X = data.drop(\"Sputum\", axis=1)\n",
        "\n",
        "\n",
        "X_train, X_test, y_train, y_test = train_test_split(X, y, test_size=0.2, random_state=0)\n",
        "\n",
        "pipe = Pipeline([('std_scl',StandardScaler())])\n",
        "X_train = pipe.fit_transform(X_train)\n",
        "X_test = pipe.transform(X_test)\n",
        "feature_names = X.columns\n",
        "X_train = pd.DataFrame(X_train,columns=feature_names)\n",
        "X_test = pd.DataFrame(X_test,columns=feature_names)\n",
        "y_test = y_test.to_frame(name=\"target\")\n",
        "y_train = y_train.to_frame(name=\"target\")\n"
      ],
      "metadata": {
        "id": "LfGWGR1kuqnl"
      },
      "execution_count": 15,
      "outputs": []
    },
    {
      "cell_type": "code",
      "source": [
        "from sklearn.ensemble import BaggingRegressor\n",
        "\n",
        "bag_reg = BaggingRegressor(base_estimator=DecisionTreeRegressor(max_depth=3,\n",
        "                                                      max_features='sqrt',\n",
        "                                                      splitter='random'),\n",
        "                            n_estimators=30,\n",
        "                            max_samples=0.8,\n",
        "                            max_features=0.9,\n",
        "                            bootstrap=True,\n",
        "                            bootstrap_features=False,\n",
        "                            oob_score=False,\n",
        "                            warm_start=False,\n",
        "                            n_jobs=2,\n",
        "                            random_state=0,\n",
        "                            verbose=0\n",
        "                            )\n",
        "\n",
        "bag_reg.fit(X_train, y_train)"
      ],
      "metadata": {
        "colab": {
          "base_uri": "https://localhost:8080/",
          "height": 212
        },
        "id": "0n7qnOil15sE",
        "outputId": "8c8655bd-ac99-441b-fb17-d94ceda8e20d"
      },
      "execution_count": 16,
      "outputs": [
        {
          "output_type": "stream",
          "name": "stderr",
          "text": [
            "/usr/local/lib/python3.10/dist-packages/sklearn/ensemble/_bagging.py:509: DataConversionWarning: A column-vector y was passed when a 1d array was expected. Please change the shape of y to (n_samples, ), for example using ravel().\n",
            "  return column_or_1d(y, warn=True)\n",
            "/usr/local/lib/python3.10/dist-packages/sklearn/ensemble/_base.py:156: FutureWarning: `base_estimator` was renamed to `estimator` in version 1.2 and will be removed in 1.4.\n",
            "  warnings.warn(\n"
          ]
        },
        {
          "output_type": "execute_result",
          "data": {
            "text/plain": [
              "BaggingRegressor(base_estimator=DecisionTreeRegressor(max_depth=3,\n",
              "                                                      max_features='sqrt',\n",
              "                                                      splitter='random'),\n",
              "                 max_features=0.9, max_samples=0.8, n_estimators=30, n_jobs=2,\n",
              "                 random_state=0)"
            ],
            "text/html": [
              "<style>#sk-container-id-1 {color: black;}#sk-container-id-1 pre{padding: 0;}#sk-container-id-1 div.sk-toggleable {background-color: white;}#sk-container-id-1 label.sk-toggleable__label {cursor: pointer;display: block;width: 100%;margin-bottom: 0;padding: 0.3em;box-sizing: border-box;text-align: center;}#sk-container-id-1 label.sk-toggleable__label-arrow:before {content: \"▸\";float: left;margin-right: 0.25em;color: #696969;}#sk-container-id-1 label.sk-toggleable__label-arrow:hover:before {color: black;}#sk-container-id-1 div.sk-estimator:hover label.sk-toggleable__label-arrow:before {color: black;}#sk-container-id-1 div.sk-toggleable__content {max-height: 0;max-width: 0;overflow: hidden;text-align: left;background-color: #f0f8ff;}#sk-container-id-1 div.sk-toggleable__content pre {margin: 0.2em;color: black;border-radius: 0.25em;background-color: #f0f8ff;}#sk-container-id-1 input.sk-toggleable__control:checked~div.sk-toggleable__content {max-height: 200px;max-width: 100%;overflow: auto;}#sk-container-id-1 input.sk-toggleable__control:checked~label.sk-toggleable__label-arrow:before {content: \"▾\";}#sk-container-id-1 div.sk-estimator input.sk-toggleable__control:checked~label.sk-toggleable__label {background-color: #d4ebff;}#sk-container-id-1 div.sk-label input.sk-toggleable__control:checked~label.sk-toggleable__label {background-color: #d4ebff;}#sk-container-id-1 input.sk-hidden--visually {border: 0;clip: rect(1px 1px 1px 1px);clip: rect(1px, 1px, 1px, 1px);height: 1px;margin: -1px;overflow: hidden;padding: 0;position: absolute;width: 1px;}#sk-container-id-1 div.sk-estimator {font-family: monospace;background-color: #f0f8ff;border: 1px dotted black;border-radius: 0.25em;box-sizing: border-box;margin-bottom: 0.5em;}#sk-container-id-1 div.sk-estimator:hover {background-color: #d4ebff;}#sk-container-id-1 div.sk-parallel-item::after {content: \"\";width: 100%;border-bottom: 1px solid gray;flex-grow: 1;}#sk-container-id-1 div.sk-label:hover label.sk-toggleable__label {background-color: #d4ebff;}#sk-container-id-1 div.sk-serial::before {content: \"\";position: absolute;border-left: 1px solid gray;box-sizing: border-box;top: 0;bottom: 0;left: 50%;z-index: 0;}#sk-container-id-1 div.sk-serial {display: flex;flex-direction: column;align-items: center;background-color: white;padding-right: 0.2em;padding-left: 0.2em;position: relative;}#sk-container-id-1 div.sk-item {position: relative;z-index: 1;}#sk-container-id-1 div.sk-parallel {display: flex;align-items: stretch;justify-content: center;background-color: white;position: relative;}#sk-container-id-1 div.sk-item::before, #sk-container-id-1 div.sk-parallel-item::before {content: \"\";position: absolute;border-left: 1px solid gray;box-sizing: border-box;top: 0;bottom: 0;left: 50%;z-index: -1;}#sk-container-id-1 div.sk-parallel-item {display: flex;flex-direction: column;z-index: 1;position: relative;background-color: white;}#sk-container-id-1 div.sk-parallel-item:first-child::after {align-self: flex-end;width: 50%;}#sk-container-id-1 div.sk-parallel-item:last-child::after {align-self: flex-start;width: 50%;}#sk-container-id-1 div.sk-parallel-item:only-child::after {width: 0;}#sk-container-id-1 div.sk-dashed-wrapped {border: 1px dashed gray;margin: 0 0.4em 0.5em 0.4em;box-sizing: border-box;padding-bottom: 0.4em;background-color: white;}#sk-container-id-1 div.sk-label label {font-family: monospace;font-weight: bold;display: inline-block;line-height: 1.2em;}#sk-container-id-1 div.sk-label-container {text-align: center;}#sk-container-id-1 div.sk-container {/* jupyter's `normalize.less` sets `[hidden] { display: none; }` but bootstrap.min.css set `[hidden] { display: none !important; }` so we also need the `!important` here to be able to override the default hidden behavior on the sphinx rendered scikit-learn.org. See: https://github.com/scikit-learn/scikit-learn/issues/21755 */display: inline-block !important;position: relative;}#sk-container-id-1 div.sk-text-repr-fallback {display: none;}</style><div id=\"sk-container-id-1\" class=\"sk-top-container\"><div class=\"sk-text-repr-fallback\"><pre>BaggingRegressor(base_estimator=DecisionTreeRegressor(max_depth=3,\n",
              "                                                      max_features=&#x27;sqrt&#x27;,\n",
              "                                                      splitter=&#x27;random&#x27;),\n",
              "                 max_features=0.9, max_samples=0.8, n_estimators=30, n_jobs=2,\n",
              "                 random_state=0)</pre><b>In a Jupyter environment, please rerun this cell to show the HTML representation or trust the notebook. <br />On GitHub, the HTML representation is unable to render, please try loading this page with nbviewer.org.</b></div><div class=\"sk-container\" hidden><div class=\"sk-item sk-dashed-wrapped\"><div class=\"sk-label-container\"><div class=\"sk-label sk-toggleable\"><input class=\"sk-toggleable__control sk-hidden--visually\" id=\"sk-estimator-id-1\" type=\"checkbox\" ><label for=\"sk-estimator-id-1\" class=\"sk-toggleable__label sk-toggleable__label-arrow\">BaggingRegressor</label><div class=\"sk-toggleable__content\"><pre>BaggingRegressor(base_estimator=DecisionTreeRegressor(max_depth=3,\n",
              "                                                      max_features=&#x27;sqrt&#x27;,\n",
              "                                                      splitter=&#x27;random&#x27;),\n",
              "                 max_features=0.9, max_samples=0.8, n_estimators=30, n_jobs=2,\n",
              "                 random_state=0)</pre></div></div></div><div class=\"sk-parallel\"><div class=\"sk-parallel-item\"><div class=\"sk-item\"><div class=\"sk-label-container\"><div class=\"sk-label sk-toggleable\"><input class=\"sk-toggleable__control sk-hidden--visually\" id=\"sk-estimator-id-2\" type=\"checkbox\" ><label for=\"sk-estimator-id-2\" class=\"sk-toggleable__label sk-toggleable__label-arrow\">base_estimator: DecisionTreeRegressor</label><div class=\"sk-toggleable__content\"><pre>DecisionTreeRegressor(max_depth=3, max_features=&#x27;sqrt&#x27;, splitter=&#x27;random&#x27;)</pre></div></div></div><div class=\"sk-serial\"><div class=\"sk-item\"><div class=\"sk-estimator sk-toggleable\"><input class=\"sk-toggleable__control sk-hidden--visually\" id=\"sk-estimator-id-3\" type=\"checkbox\" ><label for=\"sk-estimator-id-3\" class=\"sk-toggleable__label sk-toggleable__label-arrow\">DecisionTreeRegressor</label><div class=\"sk-toggleable__content\"><pre>DecisionTreeRegressor(max_depth=3, max_features=&#x27;sqrt&#x27;, splitter=&#x27;random&#x27;)</pre></div></div></div></div></div></div></div></div></div></div>"
            ]
          },
          "metadata": {},
          "execution_count": 16
        }
      ]
    },
    {
      "cell_type": "code",
      "source": [
        "print(len(bag_reg.estimators_))\n",
        "print(len(bag_reg.estimators_samples_))\n",
        "print(len(bag_reg.estimators_features_))"
      ],
      "metadata": {
        "colab": {
          "base_uri": "https://localhost:8080/"
        },
        "id": "nTMa7Zeo2lxZ",
        "outputId": "4d2f826c-e395-49d4-8fac-b784d4439e8d"
      },
      "execution_count": 17,
      "outputs": [
        {
          "output_type": "stream",
          "name": "stdout",
          "text": [
            "30\n",
            "30\n",
            "30\n"
          ]
        }
      ]
    },
    {
      "cell_type": "code",
      "source": [
        "scores = []\n",
        "for est,features in zip(bag_reg.estimators_,bag_reg.estimators_features_):\n",
        "    scores.append(est.score(X_test.values[:, features], y_test))\n",
        "print('Avg. estimator performance:',np.mean(scores))\n",
        "print('Estimaor performance std. dev.:',np.std(scores))\n",
        "bag_reg.score(X_test, y_test)"
      ],
      "metadata": {
        "colab": {
          "base_uri": "https://localhost:8080/"
        },
        "id": "jV0o8Wtv2tT2",
        "outputId": "5a58f45a-fe34-4e88-bec3-c0005310f346"
      },
      "execution_count": 18,
      "outputs": [
        {
          "output_type": "stream",
          "name": "stdout",
          "text": [
            "Avg. estimator performance: -0.023863586792947606\n",
            "Estimaor performance std. dev.: 0.15625352766570047\n"
          ]
        },
        {
          "output_type": "execute_result",
          "data": {
            "text/plain": [
              "0.14395641047547625"
            ]
          },
          "metadata": {},
          "execution_count": 18
        }
      ]
    }
  ]
}